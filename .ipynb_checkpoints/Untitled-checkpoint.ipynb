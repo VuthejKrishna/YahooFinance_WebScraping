{
 "cells": [
  {
   "cell_type": "code",
   "execution_count": 3,
   "metadata": {},
   "outputs": [],
   "source": [
    "import numpy as np\n",
    "import numpy.linalg as la"
   ]
  },
  {
   "cell_type": "code",
   "execution_count": 5,
   "metadata": {},
   "outputs": [],
   "source": [
    "a = np.array([[6., 4., 2.],\n",
    "              [4., 2., 4.],\n",
    "              [3., 3., 3.]])\n",
    "\n",
    "b = la.inv(a)"
   ]
  },
  {
   "cell_type": "code",
   "execution_count": 7,
   "metadata": {},
   "outputs": [
    {
     "name": "stdout",
     "output_type": "stream",
     "text": [
      "[[6. 4. 2.]\n",
      " [4. 2. 4.]\n",
      " [3. 3. 3.]]\n",
      "[[ 0.25        0.25       -0.5       ]\n",
      " [-0.         -0.5         0.66666667]\n",
      " [-0.25        0.25        0.16666667]]\n"
     ]
    }
   ],
   "source": [
    "np.set_printoptions(suppress=True)\n",
    "print(a)\n",
    "print(b)"
   ]
  },
  {
   "cell_type": "code",
   "execution_count": 9,
   "metadata": {},
   "outputs": [
    {
     "name": "stdout",
     "output_type": "stream",
     "text": [
      "[[-1. -1.]\n",
      " [-1. -1.]]\n",
      "[[-2.  2.]\n",
      " [ 2. -2.]]\n"
     ]
    }
   ],
   "source": [
    "c = np.array([[1., -1.],\n",
    "              [-1., 1.]])\n",
    "\n",
    "d = np.array([[-1., 1.],\n",
    "              [1., -1.]])\n",
    "\n",
    "print(c*d)\n",
    "print(c@d)"
   ]
  },
  {
   "cell_type": "code",
   "execution_count": 11,
   "metadata": {},
   "outputs": [
    {
     "name": "stdout",
     "output_type": "stream",
     "text": [
      "[[3. 4. 6.]\n",
      " [0. 1. 2.]\n",
      " [0. 0. 1.]]\n"
     ]
    }
   ],
   "source": [
    "c = np.array([[1., 2., 3.],\n",
    "              [0., 1., 1.],\n",
    "              [0., 0., 1.]])\n",
    "\n",
    "d = np.array([[3., 2., 1.],\n",
    "              [0., 1., 1.],\n",
    "              [0., 0., 1.]])\n",
    "\n",
    "# print(c*d)\n",
    "print(c@d)"
   ]
  },
  {
   "cell_type": "code",
   "execution_count": 12,
   "metadata": {},
   "outputs": [
    {
     "name": "stdout",
     "output_type": "stream",
     "text": [
      "[[-0. -1.]\n",
      " [ 1.  0.]]\n"
     ]
    }
   ],
   "source": [
    "e = np.array([[0., 1.],\n",
    "              [-1., 0.]])\n",
    "\n",
    "print(la.inv(e))"
   ]
  },
  {
   "cell_type": "code",
   "execution_count": 13,
   "metadata": {},
   "outputs": [
    {
     "name": "stdout",
     "output_type": "stream",
     "text": [
      "[[ 1.  0.]\n",
      " [-0. -1.]]\n"
     ]
    }
   ],
   "source": [
    "e = np.array([[1., 0.],\n",
    "              [0., -1.]])\n",
    "\n",
    "print(la.inv(e))"
   ]
  },
  {
   "cell_type": "code",
   "execution_count": 14,
   "metadata": {},
   "outputs": [
    {
     "name": "stdout",
     "output_type": "stream",
     "text": [
      "[[0. 1.]\n",
      " [1. 0.]]\n"
     ]
    }
   ],
   "source": [
    "e = np.array([[0., 1.],\n",
    "              [1., 0.]])\n",
    "\n",
    "print(la.inv(e))"
   ]
  },
  {
   "cell_type": "code",
   "execution_count": 15,
   "metadata": {},
   "outputs": [
    {
     "ename": "LinAlgError",
     "evalue": "Singular matrix",
     "output_type": "error",
     "traceback": [
      "\u001b[1;31m---------------------------------------------------------------------------\u001b[0m",
      "\u001b[1;31mLinAlgError\u001b[0m                               Traceback (most recent call last)",
      "\u001b[1;32m<ipython-input-15-522ca032c4ce>\u001b[0m in \u001b[0;36m<module>\u001b[1;34m\u001b[0m\n\u001b[0;32m      2\u001b[0m               [0., 0.]])\n\u001b[0;32m      3\u001b[0m \u001b[1;33m\u001b[0m\u001b[0m\n\u001b[1;32m----> 4\u001b[1;33m \u001b[0mprint\u001b[0m\u001b[1;33m(\u001b[0m\u001b[0mla\u001b[0m\u001b[1;33m.\u001b[0m\u001b[0minv\u001b[0m\u001b[1;33m(\u001b[0m\u001b[0me\u001b[0m\u001b[1;33m)\u001b[0m\u001b[1;33m)\u001b[0m\u001b[1;33m\u001b[0m\u001b[1;33m\u001b[0m\u001b[0m\n\u001b[0m",
      "\u001b[1;32mC:\\ProgramData\\Anaconda3\\lib\\site-packages\\numpy\\linalg\\linalg.py\u001b[0m in \u001b[0;36minv\u001b[1;34m(a)\u001b[0m\n\u001b[0;32m    549\u001b[0m     \u001b[0msignature\u001b[0m \u001b[1;33m=\u001b[0m \u001b[1;34m'D->D'\u001b[0m \u001b[1;32mif\u001b[0m \u001b[0misComplexType\u001b[0m\u001b[1;33m(\u001b[0m\u001b[0mt\u001b[0m\u001b[1;33m)\u001b[0m \u001b[1;32melse\u001b[0m \u001b[1;34m'd->d'\u001b[0m\u001b[1;33m\u001b[0m\u001b[1;33m\u001b[0m\u001b[0m\n\u001b[0;32m    550\u001b[0m     \u001b[0mextobj\u001b[0m \u001b[1;33m=\u001b[0m \u001b[0mget_linalg_error_extobj\u001b[0m\u001b[1;33m(\u001b[0m\u001b[0m_raise_linalgerror_singular\u001b[0m\u001b[1;33m)\u001b[0m\u001b[1;33m\u001b[0m\u001b[1;33m\u001b[0m\u001b[0m\n\u001b[1;32m--> 551\u001b[1;33m     \u001b[0mainv\u001b[0m \u001b[1;33m=\u001b[0m \u001b[0m_umath_linalg\u001b[0m\u001b[1;33m.\u001b[0m\u001b[0minv\u001b[0m\u001b[1;33m(\u001b[0m\u001b[0ma\u001b[0m\u001b[1;33m,\u001b[0m \u001b[0msignature\u001b[0m\u001b[1;33m=\u001b[0m\u001b[0msignature\u001b[0m\u001b[1;33m,\u001b[0m \u001b[0mextobj\u001b[0m\u001b[1;33m=\u001b[0m\u001b[0mextobj\u001b[0m\u001b[1;33m)\u001b[0m\u001b[1;33m\u001b[0m\u001b[1;33m\u001b[0m\u001b[0m\n\u001b[0m\u001b[0;32m    552\u001b[0m     \u001b[1;32mreturn\u001b[0m \u001b[0mwrap\u001b[0m\u001b[1;33m(\u001b[0m\u001b[0mainv\u001b[0m\u001b[1;33m.\u001b[0m\u001b[0mastype\u001b[0m\u001b[1;33m(\u001b[0m\u001b[0mresult_t\u001b[0m\u001b[1;33m,\u001b[0m \u001b[0mcopy\u001b[0m\u001b[1;33m=\u001b[0m\u001b[1;32mFalse\u001b[0m\u001b[1;33m)\u001b[0m\u001b[1;33m)\u001b[0m\u001b[1;33m\u001b[0m\u001b[1;33m\u001b[0m\u001b[0m\n\u001b[0;32m    553\u001b[0m \u001b[1;33m\u001b[0m\u001b[0m\n",
      "\u001b[1;32mC:\\ProgramData\\Anaconda3\\lib\\site-packages\\numpy\\linalg\\linalg.py\u001b[0m in \u001b[0;36m_raise_linalgerror_singular\u001b[1;34m(err, flag)\u001b[0m\n\u001b[0;32m     95\u001b[0m \u001b[1;33m\u001b[0m\u001b[0m\n\u001b[0;32m     96\u001b[0m \u001b[1;32mdef\u001b[0m \u001b[0m_raise_linalgerror_singular\u001b[0m\u001b[1;33m(\u001b[0m\u001b[0merr\u001b[0m\u001b[1;33m,\u001b[0m \u001b[0mflag\u001b[0m\u001b[1;33m)\u001b[0m\u001b[1;33m:\u001b[0m\u001b[1;33m\u001b[0m\u001b[1;33m\u001b[0m\u001b[0m\n\u001b[1;32m---> 97\u001b[1;33m     \u001b[1;32mraise\u001b[0m \u001b[0mLinAlgError\u001b[0m\u001b[1;33m(\u001b[0m\u001b[1;34m\"Singular matrix\"\u001b[0m\u001b[1;33m)\u001b[0m\u001b[1;33m\u001b[0m\u001b[1;33m\u001b[0m\u001b[0m\n\u001b[0m\u001b[0;32m     98\u001b[0m \u001b[1;33m\u001b[0m\u001b[0m\n\u001b[0;32m     99\u001b[0m \u001b[1;32mdef\u001b[0m \u001b[0m_raise_linalgerror_nonposdef\u001b[0m\u001b[1;33m(\u001b[0m\u001b[0merr\u001b[0m\u001b[1;33m,\u001b[0m \u001b[0mflag\u001b[0m\u001b[1;33m)\u001b[0m\u001b[1;33m:\u001b[0m\u001b[1;33m\u001b[0m\u001b[1;33m\u001b[0m\u001b[0m\n",
      "\u001b[1;31mLinAlgError\u001b[0m: Singular matrix"
     ]
    }
   ],
   "source": [
    "e = np.array([[1., -1.],\n",
    "              [0., 0.]])\n",
    "\n",
    "print(la.inv(e))"
   ]
  },
  {
   "cell_type": "code",
   "execution_count": 19,
   "metadata": {},
   "outputs": [
    {
     "name": "stdout",
     "output_type": "stream",
     "text": [
      "[[ 3. -7. -2.]\n",
      " [-3.  5.  1.]\n",
      " [ 6. -4.  0.]]\n"
     ]
    }
   ],
   "source": [
    "lower1 = np.array([[1., 0., 0.],\n",
    "                  [-1., 1., 0.],\n",
    "                  [2., -5., 1/2.]])\n",
    "\n",
    "upper1 = np.array([[3., -7., -2.],\n",
    "                  [0., -2., -1.],\n",
    "                  [0., 0., -2.]])\n",
    "\n",
    "print(lower1@upper1)"
   ]
  },
  {
   "cell_type": "code",
   "execution_count": 20,
   "metadata": {},
   "outputs": [
    {
     "name": "stdout",
     "output_type": "stream",
     "text": [
      "[[ 3. -7. -2.]\n",
      " [-3.  5.  1.]\n",
      " [ 6. -4.  0.]]\n"
     ]
    }
   ],
   "source": [
    "lower2 = np.array([[1., 0., 0.],\n",
    "                  [-1., 1., 0.],\n",
    "                  [2., -5., 1.]])\n",
    "\n",
    "upper2 = np.array([[3., -7., -2.],\n",
    "                  [0., -2., -1.],\n",
    "                  [0., 0., -1.]])\n",
    "\n",
    "print(lower2@upper2)"
   ]
  },
  {
   "cell_type": "code",
   "execution_count": 21,
   "metadata": {},
   "outputs": [
    {
     "name": "stdout",
     "output_type": "stream",
     "text": [
      "[[ 3. -7. -2.]\n",
      " [-3.  5.  1.]\n",
      " [ 6. -4.  0.]]\n"
     ]
    }
   ],
   "source": [
    "lower3 = np.array([[1., 0., 0.],\n",
    "                  [-1., 2., -1.],\n",
    "                  [2., -10., 6.]])\n",
    "\n",
    "upper3 = np.array([[3., -7., -2.],\n",
    "                  [0., -1., -1.],\n",
    "                  [0., 0., -1.]])\n",
    "\n",
    "print(lower3@upper3)"
   ]
  },
  {
   "cell_type": "code",
   "execution_count": 22,
   "metadata": {},
   "outputs": [
    {
     "name": "stdout",
     "output_type": "stream",
     "text": [
      "[[  3.  -7.  -2.]\n",
      " [ -3.   5.   1.]\n",
      " [ 12. -18.   0.]]\n"
     ]
    }
   ],
   "source": [
    "lower4 = np.array([[1., 0., 0.],\n",
    "                  [-1., 1., 0.],\n",
    "                  [4., -5., 1.]])\n",
    "\n",
    "upper4 = np.array([[3., -7., -2.],\n",
    "                  [0., -2., -1.],\n",
    "                  [0., 0., 3.]])\n",
    "\n",
    "print(lower4@upper4)"
   ]
  },
  {
   "cell_type": "code",
   "execution_count": 41,
   "metadata": {},
   "outputs": [
    {
     "name": "stdout",
     "output_type": "stream",
     "text": [
      "[[  1.   0.   0.]\n",
      " [ -1.   2.  -1.]\n",
      " [  2. -10.   6.]]\n",
      "\n",
      "\n",
      "[[  1.  -1.   2.]\n",
      " [  0.   2. -10.]\n",
      " [  0.  -1.   6.]]\n",
      "\n",
      "\n",
      "[[1.  0.  0. ]\n",
      " [2.  3.  0.5]\n",
      " [3.  5.  1. ]]\n",
      "\n",
      "\n",
      "2.0\n",
      "2.0\n",
      "0.49999999999999994\n",
      "0.5\n",
      "0.9999999999999999\n",
      "54.00000000000001\n",
      "18.000000000000014\n",
      "32.000000000000085\n",
      "32.00000000000003\n"
     ]
    }
   ],
   "source": [
    "x = np.array([[1., 0., 0.],\n",
    "              [-1., 2., -1.],\n",
    "              [2., -10., 6.]])\n",
    "\n",
    "y = la.inv(x)\n",
    "\n",
    "xt = x.transpose()\n",
    "\n",
    "print(x)\n",
    "print(\"\\n\")\n",
    "print(xt)\n",
    "print(\"\\n\")\n",
    "print(y)\n",
    "print(\"\\n\")\n",
    "detx = la.det(x)\n",
    "detxt = la.det(xt)\n",
    "dety = la.det(y)\n",
    "print(detx)\n",
    "print(detxt)\n",
    "print(dety)\n",
    "\n",
    "print(1/detx)\n",
    "print(detx*dety)\n",
    "\n",
    "print(la.det(x+2*x))\n",
    "print(la.det(x) + la.det(2*x))\n",
    "\n",
    "print(la.det(x@(2*x)))\n",
    "print(la.det(x)*la.det(2*x))\n"
   ]
  },
  {
   "cell_type": "code",
   "execution_count": 44,
   "metadata": {},
   "outputs": [
    {
     "name": "stdout",
     "output_type": "stream",
     "text": [
      "4.0\n",
      "(array([3.41421356, 2.        , 0.58578644]), array([[-0.5       ,  0.70710678,  0.5       ],\n",
      "       [-0.70710678,  0.        , -0.70710678],\n",
      "       [-0.5       , -0.70710678,  0.5       ]]))\n"
     ]
    }
   ],
   "source": [
    "z = np.array([[2., 1., 0.],\n",
    "              [1., 2., 1.],\n",
    "              [0., 1., 2.]])\n",
    "\n",
    "print(la.det(z))\n",
    "\n",
    "evals, evecs = la.eig(z)\n",
    "\n"
   ]
  },
  {
   "cell_type": "code",
   "execution_count": 45,
   "metadata": {},
   "outputs": [
    {
     "name": "stdout",
     "output_type": "stream",
     "text": [
      "[[ 1  0]\n",
      " [ 2 -1]]\n"
     ]
    }
   ],
   "source": [
    "A = np.array([[1,0],\n",
    "              [2,-1]])\n",
    "\n",
    "r = A@A@A@A@A\n",
    "\n",
    "print(r)"
   ]
  },
  {
   "cell_type": "code",
   "execution_count": 49,
   "metadata": {},
   "outputs": [
    {
     "name": "stdout",
     "output_type": "stream",
     "text": [
      "2.23606797749979\n",
      "2.23606797749979\n",
      "0.0\n"
     ]
    }
   ],
   "source": [
    "u = np.array([1., 2.])\n",
    "\n",
    "v = np.array([0., 0.])\n",
    "\n",
    "u_plus_v = np.linalg.norm(u+v)\n",
    "u_norm = np.linalg.norm(u)\n",
    "v_norm = np.linalg.norm(v)\n",
    "\n",
    "print(u_plus_v)\n",
    "print(u_norm)\n",
    "print(v_norm)"
   ]
  },
  {
   "cell_type": "code",
   "execution_count": 51,
   "metadata": {},
   "outputs": [
    {
     "name": "stdout",
     "output_type": "stream",
     "text": [
      "[-5.   3.7  2.  10.   0. ]\n",
      "[-5.   3.7  2.  10.   0. ]\n",
      "1.0\n"
     ]
    }
   ],
   "source": [
    "# code here\n",
    "\n",
    "u = np.array([-5., 3.7, 2., 10., 0.])\n",
    "print(u)\n",
    "\n",
    "v = np.array([-5., 3.7, 2., 10., 0.])\n",
    "print(v)\n",
    "\n",
    "def sim(u,v):\n",
    "    return (u.dot(v) / (np.linalg.norm(u) * np.linalg.norm(v)))\n",
    "\n",
    "print(sim(u,v))"
   ]
  },
  {
   "cell_type": "code",
   "execution_count": null,
   "metadata": {},
   "outputs": [],
   "source": []
  }
 ],
 "metadata": {
  "kernelspec": {
   "display_name": "Python 3",
   "language": "python",
   "name": "python3"
  },
  "language_info": {
   "codemirror_mode": {
    "name": "ipython",
    "version": 3
   },
   "file_extension": ".py",
   "mimetype": "text/x-python",
   "name": "python",
   "nbconvert_exporter": "python",
   "pygments_lexer": "ipython3",
   "version": "3.7.4"
  }
 },
 "nbformat": 4,
 "nbformat_minor": 2
}
